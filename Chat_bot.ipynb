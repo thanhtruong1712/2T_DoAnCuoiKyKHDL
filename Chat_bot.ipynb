{
 "cells": [
  {
   "cell_type": "code",
   "execution_count": null,
   "metadata": {},
   "outputs": [],
   "source": [
    "# Khởi tạo\n",
    "ai_brain=\"\"\n",
    "ai_ear=speech_recognition.Recognizer() # nghe người dùng nói"
   ]
  },
  {
   "cell_type": "code",
   "execution_count": null,
   "metadata": {},
   "outputs": [],
   "source": [
    "with speech_recognition.Microphone() as mic:\n",
    "  print(\"Megaranh: đang nghe ...\")\n",
    "  audio=ai_ear.record(mic,duration=5) \n",
    "  print(\"\\nAI:...\")\n",
    "try: \n",
    "  you = ai_ear.recognize_google(audio, Language='vi-VN')\n",
    "  print(\"\\nUser: \"+you)\n",
    "except:\n",
    "  ai_brain=\"Tôi không hiểu gì cả ...\"\n",
    "  print(\"\\nAI: \"+ai_brain)"
   ]
  },
  {
   "cell_type": "code",
   "execution_count": null,
   "metadata": {},
   "outputs": [],
   "source": [
    "#Download the punkt package\n",
    "nltk.download('punkt',quiet=True)"
   ]
  },
  {
   "cell_type": "code",
   "execution_count": null,
   "metadata": {},
   "outputs": [],
   "source": [
    "\"\"\" # get the article\n",
    "article1 = Article('https://en.wikipedia.org/wiki/Fish')\n",
    "article1.download()\n",
    "article1.parse()\n",
    "article1.nlp()\n",
    "article2 = Article('https://en.wikipedia.org/wiki/COVID-19_pandemic')\n",
    "article2.download()\n",
    "article2.parse()\n",
    "article2.nlp()\n",
    "corpus=article1.text+' '+article2.text\n",
    "\"\"\"\n",
    "a1=\"Fish are gill-bearing aquatic craniate animals that lack limbs with digits\"\n",
    "a2=\"They form a sister group to the tunicates, together forming the olfactores. Included in this definition are the living hagfish, lampreys, and cartilaginous and bony fish as well as various extinct related groups\"\n",
    "corpus= a1+a2"
   ]
  },
  {
   "cell_type": "code",
   "execution_count": null,
   "metadata": {},
   "outputs": [],
   "source": [
    "# print the article text\n",
    "print(corpus)"
   ]
  },
  {
   "cell_type": "code",
   "execution_count": null,
   "metadata": {},
   "outputs": [],
   "source": [
    "# Tokenization\n",
    "text = corpus\n",
    "sentence_list = nltk.sent_tokenize(text) # A list of sentences"
   ]
  },
  {
   "cell_type": "code",
   "execution_count": null,
   "metadata": {},
   "outputs": [],
   "source": [
    "# print the list of sentences\n",
    "print(sentence_list)"
   ]
  },
  {
   "cell_type": "code",
   "execution_count": null,
   "metadata": {},
   "outputs": [],
   "source": [
    "# random greeting function\n",
    "def greeting_response(text):\n",
    "  text= text.lower()\n",
    "  # bots greeting response\n",
    "  bot_greetings=[\"hello\", \"hi\",\"nice to talk to you\",\"howdy\",\"how can I help you\",\"hola\"]\n",
    "  # user greeting\n",
    "  user_greeting =[\"hi\", \"hey\", \"hello\", \"what's up\",\"hola\",\"wassup\"]\n",
    "  for word in text.split():\n",
    "    if word in user_greeting:\n",
    "      return random.choice(bot_greetings)\n"
   ]
  },
  {
   "cell_type": "code",
   "execution_count": null,
   "metadata": {},
   "outputs": [],
   "source": [
    "def index_sort(list_var):\n",
    "  length = len(list_var)\n",
    "  list_index = list(range(0,length))\n",
    "  x = list_var\n",
    "  for i in range(length):\n",
    "    for j in range(length):\n",
    "      if x[list_index[i]] > x[list_index[j]]:\n",
    "        # swap\n",
    "        temp = list_index[i]\n",
    "        list_index[i]=list_index[j]\n",
    "        list_index[j]=temp\n",
    "  return list_index"
   ]
  },
  {
   "cell_type": "code",
   "execution_count": null,
   "metadata": {},
   "outputs": [],
   "source": [
    "# create the bot response\n",
    "def bot_response(user_input):\n",
    "  user_input = user_input.lower()\n",
    "  sentence_list.append(user_input)\n",
    "  bot_response= ''\n",
    "  cm = CountVectorizer().fit_transform(sentence_list)\n",
    "  similarity_scores = cosine_similarity(cm[-1],cm)\n",
    "  similarity_scores_list = similarity_scores.flatten()\n",
    "  index = index_sort(similarity_scores_list)\n",
    "  index = index[1:]\n",
    "  response_flag=0\n",
    "  j=0\n",
    "  for i in range(len(index)):\n",
    "    if similarity_scores_list[index[i]]> 0.0:\n",
    "      bot_response= bot_response+' '+sentence_list[index[i]]\n",
    "      response_flag=1\n",
    "      j = j+1\n",
    "    if j>2:\n",
    "      break\n",
    "  if response_flag==0:\n",
    "    bot_response=bot_response+' '+\"Sorry, I don't understand\"\n",
    "  sentence_list.remove(user_input)\n",
    "  return bot_response"
   ]
  },
  {
   "cell_type": "code",
   "execution_count": null,
   "metadata": {},
   "outputs": [],
   "source": [
    "'''user_input = 'hello world'\n",
    "sentence_list.append(user_input)\n",
    "bot_response=''\n",
    "cm = CountVectorizer().fit_transform(sentence_list)\n",
    "similarity_scores = cosine_similarity(cm[-1],cm)\n",
    "similarity_scores_list = similarity_scores.flatten()\n",
    "index = index_sort(similarity_scores_list)\n",
    "'''"
   ]
  },
  {
   "cell_type": "code",
   "execution_count": null,
   "metadata": {},
   "outputs": [],
   "source": [
    "# start the chat\n",
    "print(\"hello, my name's Megaranh. How can I help you?\")\n",
    "exit_list = [\"bye\", \"see you later\", \"goodbye\"]\n",
    "while(True): \n",
    "  user_input = input()\n",
    "  if user_input.lower() in exit_list:\n",
    "    print(\"Megaranh: Bye! See you later!\")\n",
    "    break\n",
    "  else:\n",
    "    if greeting_response(user_input) != None:\n",
    "      print(\"Megaranh: \"+greeting_response(user_input))\n",
    "    else:\n",
    "      print(\"Megaranh: \"+bot_response(user_input))"
   ]
  }
 ],
 "metadata": {
  "kernelspec": {
   "display_name": "Python 3",
   "language": "python",
   "name": "python3"
  },
  "language_info": {
   "codemirror_mode": {
    "name": "ipython",
    "version": 3
   },
   "file_extension": ".py",
   "mimetype": "text/x-python",
   "name": "python",
   "nbconvert_exporter": "python",
   "pygments_lexer": "ipython3",
   "version": "3.8.3"
  },
  "toc": {
   "base_numbering": 1,
   "nav_menu": {},
   "number_sections": true,
   "sideBar": true,
   "skip_h1_title": false,
   "title_cell": "Table of Contents",
   "title_sidebar": "Contents",
   "toc_cell": false,
   "toc_position": {},
   "toc_section_display": true,
   "toc_window_display": false
  }
 },
 "nbformat": 4,
 "nbformat_minor": 4
}

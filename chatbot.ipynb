{
 "cells": [
  {
   "cell_type": "code",
   "execution_count": 1,
   "metadata": {
    "colab": {
     "base_uri": "https://localhost:8080/"
    },
    "id": "ybXGAGsnOuu6",
    "outputId": "3db01a91-dbb2-413a-a8e8-a6c3bc48879d"
   },
   "outputs": [
    {
     "name": "stdout",
     "output_type": "stream",
     "text": [
      "Requirement already satisfied: nltk in c:\\users\\kimthach\\anaconda3\\lib\\site-packages (3.4.5)\n",
      "Requirement already satisfied: six in c:\\users\\kimthach\\anaconda3\\lib\\site-packages (from nltk) (1.14.0)\n",
      "Note: you may need to restart the kernel to use updated packages.\n"
     ]
    }
   ],
   "source": [
    "pip install nltk"
   ]
  },
  {
   "cell_type": "code",
   "execution_count": 2,
   "metadata": {
    "colab": {
     "base_uri": "https://localhost:8080/"
    },
    "id": "cqiYnzEaO_IE",
    "outputId": "61b32e41-27f9-4aa2-ba62-3d3ee07dfeda"
   },
   "outputs": [
    {
     "name": "stdout",
     "output_type": "stream",
     "text": [
      "Requirement already satisfied: newspaper3k in c:\\users\\kimthach\\anaconda3\\lib\\site-packages (0.2.8)\n",
      "Requirement already satisfied: requests>=2.10.0 in c:\\users\\kimthach\\anaconda3\\lib\\site-packages (from newspaper3k) (2.22.0)\n",
      "Requirement already satisfied: tinysegmenter==0.3 in c:\\users\\kimthach\\anaconda3\\lib\\site-packages (from newspaper3k) (0.3)\n",
      "Requirement already satisfied: PyYAML>=3.11 in c:\\users\\kimthach\\anaconda3\\lib\\site-packages (from newspaper3k) (5.3)\n",
      "Requirement already satisfied: Pillow>=3.3.0 in c:\\users\\kimthach\\anaconda3\\lib\\site-packages (from newspaper3k) (7.0.0)\n",
      "Requirement already satisfied: jieba3k>=0.35.1 in c:\\users\\kimthach\\anaconda3\\lib\\site-packages (from newspaper3k) (0.35.1)\n",
      "Requirement already satisfied: python-dateutil>=2.5.3 in c:\\users\\kimthach\\anaconda3\\lib\\site-packages (from newspaper3k) (2.8.1)\n",
      "Requirement already satisfied: feedfinder2>=0.0.4 in c:\\users\\kimthach\\anaconda3\\lib\\site-packages (from newspaper3k) (0.0.4)\n",
      "Requirement already satisfied: nltk>=3.2.1 in c:\\users\\kimthach\\anaconda3\\lib\\site-packages (from newspaper3k) (3.4.5)\n",
      "Requirement already satisfied: feedparser>=5.2.1 in c:\\users\\kimthach\\anaconda3\\lib\\site-packages (from newspaper3k) (6.0.2)\n",
      "Requirement already satisfied: lxml>=3.6.0 in c:\\users\\kimthach\\anaconda3\\lib\\site-packages (from newspaper3k) (4.5.0)\n",
      "Requirement already satisfied: cssselect>=0.9.2 in c:\\users\\kimthach\\anaconda3\\lib\\site-packages (from newspaper3k) (1.1.0)\n",
      "Requirement already satisfied: tldextract>=2.0.1 in c:\\users\\kimthach\\anaconda3\\lib\\site-packages (from newspaper3k) (3.1.0)\n",
      "Requirement already satisfied: beautifulsoup4>=4.4.1 in c:\\users\\kimthach\\anaconda3\\lib\\site-packages (from newspaper3k) (4.8.2)\n",
      "Requirement already satisfied: certifi>=2017.4.17 in c:\\users\\kimthach\\anaconda3\\lib\\site-packages (from requests>=2.10.0->newspaper3k) (2019.11.28)\n",
      "Requirement already satisfied: chardet<3.1.0,>=3.0.2 in c:\\users\\kimthach\\anaconda3\\lib\\site-packages (from requests>=2.10.0->newspaper3k) (3.0.4)\n",
      "Requirement already satisfied: urllib3!=1.25.0,!=1.25.1,<1.26,>=1.21.1 in c:\\users\\kimthach\\anaconda3\\lib\\site-packages (from requests>=2.10.0->newspaper3k) (1.25.8)\n",
      "Requirement already satisfied: idna<2.9,>=2.5 in c:\\users\\kimthach\\anaconda3\\lib\\site-packages (from requests>=2.10.0->newspaper3k) (2.8)\n",
      "Requirement already satisfied: six>=1.5 in c:\\users\\kimthach\\anaconda3\\lib\\site-packages (from python-dateutil>=2.5.3->newspaper3k) (1.14.0)\n",
      "Requirement already satisfied: sgmllib3k in c:\\users\\kimthach\\anaconda3\\lib\\site-packages (from feedparser>=5.2.1->newspaper3k) (1.0.0)\n",
      "Requirement already satisfied: filelock>=3.0.8 in c:\\users\\kimthach\\anaconda3\\lib\\site-packages (from tldextract>=2.0.1->newspaper3k) (3.0.12)\n",
      "Requirement already satisfied: requests-file>=1.4 in c:\\users\\kimthach\\anaconda3\\lib\\site-packages (from tldextract>=2.0.1->newspaper3k) (1.5.1)\n",
      "Requirement already satisfied: soupsieve>=1.2 in c:\\users\\kimthach\\anaconda3\\lib\\site-packages (from beautifulsoup4>=4.4.1->newspaper3k) (1.9.5)\n",
      "Note: you may need to restart the kernel to use updated packages.\n"
     ]
    }
   ],
   "source": [
    "pip install newspaper3k"
   ]
  },
  {
   "cell_type": "code",
   "execution_count": 3,
   "metadata": {
    "colab": {
     "base_uri": "https://localhost:8080/"
    },
    "id": "Ez0TndG3AFiy",
    "outputId": "45531f78-b2e2-41af-b51d-e3ce8b9b281b"
   },
   "outputs": [
    {
     "name": "stdout",
     "output_type": "stream",
     "text": [
      "Collecting gtts\n",
      "  Downloading gTTS-2.2.1-py3-none-any.whl (24 kB)\n",
      "Requirement already satisfied: requests in c:\\users\\kimthach\\anaconda3\\lib\\site-packages (from gtts) (2.22.0)\n",
      "Requirement already satisfied: click in c:\\users\\kimthach\\anaconda3\\lib\\site-packages (from gtts) (7.0)\n",
      "Requirement already satisfied: six in c:\\users\\kimthach\\anaconda3\\lib\\site-packages (from gtts) (1.14.0)\n",
      "Requirement already satisfied: urllib3!=1.25.0,!=1.25.1,<1.26,>=1.21.1 in c:\\users\\kimthach\\anaconda3\\lib\\site-packages (from requests->gtts) (1.25.8)\n",
      "Requirement already satisfied: idna<2.9,>=2.5 in c:\\users\\kimthach\\anaconda3\\lib\\site-packages (from requests->gtts) (2.8)\n",
      "Requirement already satisfied: chardet<3.1.0,>=3.0.2 in c:\\users\\kimthach\\anaconda3\\lib\\site-packages (from requests->gtts) (3.0.4)\n",
      "Requirement already satisfied: certifi>=2017.4.17 in c:\\users\\kimthach\\anaconda3\\lib\\site-packages (from requests->gtts) (2019.11.28)\n",
      "Installing collected packages: gtts\n",
      "Successfully installed gtts-2.2.1\n",
      "Note: you may need to restart the kernel to use updated packages.\n"
     ]
    }
   ],
   "source": [
    "pip install gtts"
   ]
  },
  {
   "cell_type": "code",
   "execution_count": 4,
   "metadata": {
    "id": "p7PXpztAPD9x"
   },
   "outputs": [],
   "source": [
    "from newspaper import Article\n",
    "import random\n",
    "import string\n",
    "import nltk\n",
    "from sklearn.feature_extraction.text import CountVectorizer\n",
    "from sklearn.metrics.pairwise import cosine_similarity\n",
    "import numpy as np\n",
    "import warnings\n",
    "warnings.filterwarnings('ignore')\n"
   ]
  },
  {
   "cell_type": "code",
   "execution_count": 5,
   "metadata": {
    "colab": {
     "base_uri": "https://localhost:8080/"
    },
    "id": "4lKuAo4aPx3i",
    "outputId": "4182c54d-90bf-4dbe-f5e5-f6e86244267e"
   },
   "outputs": [
    {
     "data": {
      "text/plain": [
       "True"
      ]
     },
     "execution_count": 5,
     "metadata": {},
     "output_type": "execute_result"
    }
   ],
   "source": [
    "#Download the punkt package\n",
    "nltk.download('punkt',quiet=True)"
   ]
  },
  {
   "cell_type": "code",
   "execution_count": 6,
   "metadata": {
    "id": "LINceGbuQNdO"
   },
   "outputs": [],
   "source": [
    "\"\"\" # get the article\n",
    "article1 = Article('https://en.wikipedia.org/wiki/Fish')\n",
    "article1.download()\n",
    "article1.parse()\n",
    "article1.nlp()\n",
    "article2 = Article('https://en.wikipedia.org/wiki/COVID-19_pandemic')\n",
    "article2.download()\n",
    "article2.parse()\n",
    "article2.nlp()\n",
    "corpus=article1.text+' '+article2.text\n",
    "\"\"\"\n",
    "a1=\"Fish are gill-bearing aquatic craniate animals that lack limbs with digits\"\n",
    "a2=\"They form a sister group to the tunicates, together forming the olfactores. Included in this definition are the living hagfish, lampreys, and cartilaginous and bony fish as well as various extinct related groups\"\n",
    "corpus= a1+a2"
   ]
  },
  {
   "cell_type": "code",
   "execution_count": 7,
   "metadata": {
    "colab": {
     "base_uri": "https://localhost:8080/"
    },
    "id": "FEG02iiXRQ0N",
    "outputId": "157c9b1e-145b-4e27-fdb5-fdb4303fd5c8"
   },
   "outputs": [
    {
     "name": "stdout",
     "output_type": "stream",
     "text": [
      "Fish are gill-bearing aquatic craniate animals that lack limbs with digitsThey form a sister group to the tunicates, together forming the olfactores. Included in this definition are the living hagfish, lampreys, and cartilaginous and bony fish as well as various extinct related groups\n"
     ]
    }
   ],
   "source": [
    "# print the article text\n",
    "print(corpus)"
   ]
  },
  {
   "cell_type": "code",
   "execution_count": 8,
   "metadata": {
    "id": "_y5N9hGTSOOA"
   },
   "outputs": [],
   "source": [
    "# Tokenization\n",
    "text = corpus\n",
    "sentence_list = nltk.sent_tokenize(text) # A list of sentences"
   ]
  },
  {
   "cell_type": "code",
   "execution_count": 9,
   "metadata": {
    "colab": {
     "base_uri": "https://localhost:8080/"
    },
    "id": "JtGNf4NTSx_O",
    "outputId": "548ad62e-0609-4a0c-8b98-59fb111be4e2"
   },
   "outputs": [
    {
     "name": "stdout",
     "output_type": "stream",
     "text": [
      "['Fish are gill-bearing aquatic craniate animals that lack limbs with digitsThey form a sister group to the tunicates, together forming the olfactores.', 'Included in this definition are the living hagfish, lampreys, and cartilaginous and bony fish as well as various extinct related groups']\n"
     ]
    }
   ],
   "source": [
    "# print the list of sentences\n",
    "print(sentence_list)"
   ]
  },
  {
   "cell_type": "code",
   "execution_count": 10,
   "metadata": {
    "id": "vh7Zs-IdS9i9"
   },
   "outputs": [],
   "source": [
    "# random greeting function\n",
    "def greeting_response(text):\n",
    "  text= text.lower()\n",
    "  # bots greeting response\n",
    "  bot_greetings=[\"hello\", \"hi\",\"nice to talk to you\",\"howdy\",\"how can I help you\",\"hola\"]\n",
    "  # user greeting\n",
    "  user_greeting =[\"hi\", \"hey\", \"hello\", \"what's up\",\"hola\",\"wassup\"]\n",
    "  for word in text.split():\n",
    "    if word in user_greeting:\n",
    "      return random.choice(bot_greetings)\n"
   ]
  },
  {
   "cell_type": "code",
   "execution_count": 11,
   "metadata": {
    "id": "BDcI6FxqViOg"
   },
   "outputs": [],
   "source": [
    "def index_sort(list_var):\n",
    "  length = len(list_var)\n",
    "  list_index = list(range(0,length))\n",
    "  x = list_var\n",
    "  for i in range(length):\n",
    "    for j in range(length):\n",
    "      if x[list_index[i]] > x[list_index[j]]:\n",
    "        # swap\n",
    "        temp = list_index[i]\n",
    "        list_index[i]=list_index[j]\n",
    "        list_index[j]=temp\n",
    "  return list_index"
   ]
  },
  {
   "cell_type": "code",
   "execution_count": 12,
   "metadata": {
    "id": "-dW1ZnKxT_QU"
   },
   "outputs": [],
   "source": [
    "# create the bot response\n",
    "def bot_response(user_input):\n",
    "  user_input = user_input.lower()\n",
    "  sentence_list.append(user_input)\n",
    "  bot_response= ''\n",
    "  cm = CountVectorizer().fit_transform(sentence_list)\n",
    "  similarity_scores = cosine_similarity(cm[-1],cm)\n",
    "  similarity_scores_list = similarity_scores.flatten()\n",
    "  index = index_sort(similarity_scores_list)\n",
    "  index = index[1:]\n",
    "  response_flag=0\n",
    "  j=0\n",
    "  for i in range(len(index)):\n",
    "    if similarity_scores_list[index[i]]> 0.0:\n",
    "      bot_response= bot_response+' '+sentence_list[index[i]]\n",
    "      response_flag=1\n",
    "      j = j+1\n",
    "    if j>2:\n",
    "      break\n",
    "  if response_flag==0:\n",
    "    bot_response=bot_response+' '+\"Sorry, I don't understand\"\n",
    "  sentence_list.remove(user_input)\n",
    "  return bot_response"
   ]
  },
  {
   "cell_type": "code",
   "execution_count": 14,
   "metadata": {
    "colab": {
     "base_uri": "https://localhost:8080/"
    },
    "id": "iOHSIYVgbjp9",
    "outputId": "ae046f91-160c-4c52-801f-9eaa9f796877"
   },
   "outputs": [
    {
     "name": "stdout",
     "output_type": "stream",
     "text": [
      "hello, my name's Megaranh. How can I help you?\n",
      "hi\n",
      "Megaranh: hello\n",
      "what is fish\n",
      "Megaranh:  Fish are gill-bearing aquatic craniate animals that lack limbs with digitsThey form a sister group to the tunicates, together forming the olfactores. Included in this definition are the living hagfish, lampreys, and cartilaginous and bony fish as well as various extinct related groups\n",
      "bye\n",
      "Megaranh: Bye! See you later!\n"
     ]
    }
   ],
   "source": [
    "# start the chat\n",
    "print(\"hello, my name's Megaranh. How can I help you?\")\n",
    "exit_list = [\"bye\", \"see you later\", \"goodbye\"]\n",
    "while(True): \n",
    "  user_input = input()\n",
    "  if user_input.lower() in exit_list:\n",
    "    print(\"Megaranh: Bye! See you later!\")\n",
    "    break\n",
    "  else:\n",
    "    if greeting_response(user_input) != None:\n",
    "      print(\"Megaranh: \"+greeting_response(user_input))\n",
    "    else:\n",
    "      print(\"Megaranh: \"+bot_response(user_input))"
   ]
  },
  {
   "cell_type": "code",
   "execution_count": null,
   "metadata": {},
   "outputs": [],
   "source": []
  }
 ],
 "metadata": {
  "colab": {
   "collapsed_sections": [],
   "name": "chatbot.ipynb",
   "provenance": []
  },
  "kernelspec": {
   "display_name": "Python 3",
   "language": "python",
   "name": "python3"
  },
  "language_info": {
   "codemirror_mode": {
    "name": "ipython",
    "version": 3
   },
   "file_extension": ".py",
   "mimetype": "text/x-python",
   "name": "python",
   "nbconvert_exporter": "python",
   "pygments_lexer": "ipython3",
   "version": "3.7.6"
  }
 },
 "nbformat": 4,
 "nbformat_minor": 1
}
